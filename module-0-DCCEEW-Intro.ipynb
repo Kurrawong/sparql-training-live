{
 "cells": [
  {
   "metadata": {
    "collapsed": true
   },
   "cell_type": "markdown",
   "source": [
    "# 0. DCCEEW Intro\n",
    "\n",
    "These are just a few introductory remarks about Jupyter Notebooks, the BDR and SPARQL for DCCEEW staff.\n",
    "\n",
    "---"
   ],
   "id": "efff91fa203c85d3"
  },
  {
   "metadata": {},
   "cell_type": "markdown",
   "source": [
    "## 0.1 Jupyter Notebooks\n",
    "\n",
    "Notebooks do 3 things:\n",
    "\n",
    "* Markdown text\n",
    "* code\n",
    "* result printing"
   ],
   "id": "c839aa7f9a7161fd"
  },
  {
   "metadata": {
    "ExecuteTime": {
     "end_time": "2025-10-27T05:50:53.760498Z",
     "start_time": "2025-10-27T05:50:53.757037Z"
    }
   },
   "cell_type": "code",
   "source": [
    "import random\n",
    "\n",
    "random_integer = random.randint(1, 10)\n",
    "print(random_integer)"
   ],
   "id": "fb0b0ff5e516bb8",
   "outputs": [
    {
     "name": "stdout",
     "output_type": "stream",
     "text": [
      "3\n"
     ]
    }
   ],
   "execution_count": 7
  },
  {
   "metadata": {},
   "cell_type": "markdown",
   "source": [
    "## 0.2 The BDR\n",
    "\n",
    "The is \"an initiative to centralise and improve the management of Australia's biodiversity information.\" [Biodiversity Data Repository](https://bdr.gov.au/).\n",
    "\n",
    "It is technically realised as a database that takes in biodiversity observations from States, Territories and a few other Commonwealth and State data sources, including some internal to the [Department of Climate Change, Energy, the Environment and Water (DCCEEW)](https://www.dcceew.gov.au/).\n",
    "\n",
    "Some resources of the BDR are publicly visible at <https://resources.bdr.gov.au/>.\n",
    "\n",
    "There is no publicly-available SPARQL query endpoint for the BDR yet, but within DCCEEW, we have access to one. We will use that in Module 5.\n",
    "\n",
    "## 0.2.1 BDR Data\n",
    "\n",
    "The BDR's database is an RDF database or a \"triplestore\" meaning it natively stored RDF data. We will cover RDF data in Module 1.\n",
    "\n",
    "The BDR was built to use an RDF database due to the expressivity of that kind of data - allowing it to strongly define a wide range of scientific biodiversity data - and due to its extensibility - RDF DBs can be extended to incorporate new data with ease.\n",
    "\n",
    "The BDR currently has billions of data statements in it, characterising 65M+ observations - biodiversity occurrences and follow-up observations on them - in 4,000+ 'datasets'.\n",
    "\n",
    "## 0.2.2 Data Model\n",
    "\n",
    "The model of the data in the BDR is the [BDR Profile of ABIS](https://linked.data.gov.au/def/bdr-pr) which is the BDR's constrained and extended form of [Australian Biodiversity Information Standard (ABIS)](https://linked.data.gov.au/def/abis). ABIS is built mainly on the [TERN Ontology](https://linkeddata.tern.org.au/information-models/tern-ontology) which is also used by the [Terrestrial Ecosystems Research Network (TERN)](https://www.tern.org.au/) for the same purpose as ABIS: to characterise a wide range of biodiversity data for integration.\n",
    "\n",
    "TERN have publicly-queriable data held in TERN Ontology form, but not via SPARQL which they only use under-the-hood, see [EcoPlots](https://ecoplots.tern.org.au/).\n",
    "\n",
    "The TERN Ontology tells us how to describe biodiversity observations, ABIS how to bundle observations and records and the BDR Profile how to submit them to the BDR."
   ],
   "id": "85c438dbba244494"
  },
  {
   "metadata": {},
   "cell_type": "markdown",
   "source": [
    "## 0.3 SPARQL\n",
    "\n",
    "It's a query language, quite like SQL but created long after it and influenced by it. It's for (mathematical) graph data.\n",
    "\n",
    "It's a World Wide Web standard and it's widely use.\n",
    "\n",
    "It's currently undergoing some updates after being essentially stable for 10+ years:\n",
    "\n",
    "* <https://www.w3.org/TR/sparql12-query/>"
   ],
   "id": "f93e3d0e63540b84"
  }
 ],
 "metadata": {
  "kernelspec": {
   "display_name": "Python 3",
   "language": "python",
   "name": "python3"
  },
  "language_info": {
   "codemirror_mode": {
    "name": "ipython",
    "version": 2
   },
   "file_extension": ".py",
   "mimetype": "text/x-python",
   "name": "python",
   "nbconvert_exporter": "python",
   "pygments_lexer": "ipython2",
   "version": "2.7.6"
  }
 },
 "nbformat": 4,
 "nbformat_minor": 5
}
