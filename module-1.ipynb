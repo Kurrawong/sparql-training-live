{
 "cells": [
  {
   "metadata": {},
   "cell_type": "markdown",
   "source": [
    "# 1. Intro to RDF\n",
    "\n",
    "This module give an introduction to [RDF](https://www.w3.org/RDF/) for the purposes of querying it.\n",
    "\n",
    "---"
   ],
   "id": "e4f4a3f1a6d1cd8e"
  },
  {
   "metadata": {},
   "cell_type": "markdown",
   "source": [
    "## 1.1. Basic concepts of RDF\n",
    "\n",
    "### 1.1.1. A graph\n",
    "\n",
    "RDF is a _fundamental_[1] data model that associates pieces of information in a mathematical graph, that is a node-edge-node data structure.\n",
    "\n",
    "[1] It models information relations, not any specific domain or even specific data structure\n",
    "\n",
    "Associating a node with the name \"Nick\" and the age `42` and with a father names \"George\" can look like this:"
   ],
   "id": "bc7ba6542533ab2a"
  },
  {
   "metadata": {},
   "cell_type": "markdown",
   "source": [
    "```mermaid\n",
    "flowchart LR\n",
    "    n[\"*\"]\n",
    "    g[\"*\"]\n",
    "\n",
    "    n --name--> Nick\n",
    "    n --age--> 42\n",
    "    n --father--> g\n",
    "    g --name--> George\n",
    "```"
   ],
   "id": "205c3d8535ae32db"
  },
  {
   "metadata": {},
   "cell_type": "markdown",
   "source": [
    "The data for this is conceptually:\n",
    "\n",
    "```\n",
    "<n> <name> \"Nick\"\n",
    "<n> <age> 42\n",
    "<n> <father> <g>\n",
    "<g> <name> \"George\"\n",
    "```"
   ],
   "id": "705c0cad8090be78"
  },
  {
   "metadata": {},
   "cell_type": "markdown",
   "source": [
    "## 1.1.2. Subject, Predicate, Object relations\n",
    "\n",
    "Each relationship in the diagram above relates a _subject_ node to an _object_ node via a _predicate_:\n",
    "\n",
    "| subject | predicate | object   |\n",
    "|---------|-----------|----------|\n",
    "| `<n>`   | `<name>`  | \"Nick\"   |\n",
    "| `<n>`   | `<age>`   | 42       |\n",
    "| `<n>`   | `<fater>` | \"g\"      |\n",
    "| `<g>`   | `<name>`  | \"George\" |\n",
    "\n",
    "* _subjects_: are always identified nodes or anonymous nodes\n",
    "* _predicates_: are always edges of an identified type\n",
    "* _objects_: can be identifies nodes, anonymous nodes or literals - simple values (numbers, text...)"
   ],
   "id": "d69d69856f15e3b4"
  },
  {
   "metadata": {},
   "cell_type": "markdown",
   "source": [
    "### 1.1.3. Node & Edge types\n",
    "\n",
    "We don't usually use predicates like `<name>` which is interpretable as the word \"name\" but is not precisely defined. Usually we use predicates from defined models (ontologies), for example schema.org's `<https://schema.org/name>` which is \"The name of the item\":\n",
    "\n",
    "| &nbsp;          | &nbsp;                      | &nbsp;       |\n",
    "|-----------------|-----------------------------|--------------|\n",
    "| `<n>`           | `<https://schema.org/name>` | \"Nick\"       |\n",
    "| identified node | identified property         | simple value |\n",
    "\n",
    "In the example above, we have defined the predicate but identified the node with that name only as `<n>`, which only makes sense in this context - this notebook. If I send someone that data, <n> would be ambiguous - is it the same as another `<n>`? So we create universally-unique IDs for most notes. How about `<http://example.com/n>`? Still an example thing but globally unique. Better would be a 'real' IRI-based ID in our control. How about `<https://linked.data.gov.au/dataset/people/nick>`? If the Australian Government Linked Data Working Group wanted, they could issue that URL and make it resolve to data online somewhere.\n",
    "\n",
    "| &nbsp;                                             | &nbsp;                      | &nbsp;       |\n",
    "|----------------------------------------------------|-----------------------------|--------------|\n",
    "| `<https://linked.data.gov.au/dataset/people/nick>` | `<https://schema.org/name>` | \"Nick\"       |\n",
    "| identified node                                    | identified property         | simple value |\n",
    "\n"
   ],
   "id": "72b2b4ff8e3cbeaf"
  },
  {
   "metadata": {},
   "cell_type": "markdown",
   "source": [
    "### 1.1.4. Prefixes\n",
    "\n",
    "It's too long to write `<https://linked.data.gov.au/dataset/people/nick>` all the time and even `<https://schema.org/name>` is annoying, so if we say:\n",
    "\n",
    "`<https://linked.data.gov.au/dataset/people/>` → `people:`\n",
    "`<https://schema.org/name>` → `schema:`\n",
    "\n",
    "then:\n",
    "\n",
    "| &nbsp;          | &nbsp;              | &nbsp;       |\n",
    "|-----------------|---------------------|--------------|\n",
    "| `people:nick`   | `schema:name`       | \"Nick\"       |\n",
    "| identified node | identified property | simple value |"
   ],
   "id": "aca4d9000d9c5fb1"
  },
  {
   "metadata": {},
   "cell_type": "markdown",
   "source": [
    "## 1.1.5. The special `type` predicate\n",
    "\n",
    "What _class_ of thing is `people:nick` which has the `schema:name` \"Nick\"? We can use the basic property `type` from the fundamental RDF model to indicate `people:nick` is a `schema:Person`:\n",
    "\n",
    "| &nbsp;        | &nbsp;        | &nbsp;           |\n",
    "|---------------|---------------|------------------|\n",
    "| `people:nick` | \t`rdf:type`   | \t`schema:Person` |\n",
    "| `people:nick` | `schema:name` | \t\"Nick\"          |\n",
    "\n",
    "If `people:nick` was also a patient in a hospital we could say:\n",
    "\n",
    "| &nbsp;        | &nbsp;        | &nbsp;            |\n",
    "|---------------|---------------|-------------------|\n",
    "| `people:nick` | \t`rdf:type`   | \t`schema:Person`  |\n",
    "| `people:nick` | \t`rdf:type`   | \t`schema:Patient` |\n",
    "| `people:nick` | `schema:name` | \t\"Nick\"           |\n",
    "\n",
    "NOTE: both a `schema:Person` and a `schema:Patient`\n",
    "\n",
    "schema.org tells us that a `schema:Patient` is actually special kind of `schema:Person` - a subset - so if we state in data\n",
    "\n",
    "| &nbsp;        | &nbsp;        | &nbsp;            |\n",
    "|---------------|---------------|-------------------|\n",
    "| `people:nick` | \t`rdf:type`   | \t`schema:Patient` |\n",
    "| `people:nick` | `schema:name` | \t\"Nick\"           |\n",
    "\n",
    "we can _infer_, with basic \"subsumption reasoning\"\n",
    "\n",
    "| &nbsp;        | &nbsp;        | &nbsp;           |\n",
    "|---------------|---------------|------------------|\n",
    "| `people:nick` | \t`rdf:type`   | \t`schema:Person` |\n",
    "\n",
    "NOTE: `rdf:type` isn't really special at all, it's just another defined edge, but it is one that's used often."
   ],
   "id": "9b5d58dc2d875e2a"
  },
  {
   "metadata": {},
   "cell_type": "markdown",
   "source": [
    "## 1.2. RDF in the Turtle syntax\n",
    "\n",
    "The [Turtle](https://www.w3.org/TR/rdf12-turtle/) syntax is similar to tables of node-edge-node data compressed down so this data\n",
    "\n",
    "| Subject         | Predicate       | Object           |\n",
    "|-----------------|-----------------|------------------|\n",
    "| `people:nick`   | `rdf:type`      | `schema:Person`  |\n",
    "| `people:nick`   | `rdf:type`      | `schema:Patient` |\n",
    "| `people:nick`   | `schema:name`   | \"Nick\"           |\n",
    "| `people:nick`   | `schema:age`    | 42               |\n",
    "| `people:nick`   | `schema:parent` | `people:george`  |\n",
    "| `people:george` | `schema:name`   | \"George\"         |\n",
    "\n",
    "becomes\n",
    "\n",
    "```turtle\n",
    "PREFIX people: <https://linked.data.gov.au/dataset/people/>\n",
    "PREFIX rdf: <http://www.w3.org/1999/02/22-rdf-syntax-ns#>\n",
    "PREFIX schema: <https://schema.org/>\n",
    "\n",
    "people:nick\n",
    "    rdf:type\n",
    "        schema:Person ,\n",
    "        schema:Patient ;\n",
    "    schema:name \"Nick\" ;\n",
    "    schema:age 42 ;\n",
    "    schema:parent people:george ;\n",
    ".\n",
    "\n",
    "people:george\n",
    "    schema:name \"George\" ;\n",
    ".\n",
    "```\n",
    "\n",
    "You can see the same Subject, Predicate, Object information as the table above but with duplicate Subjects & Predicates removed and `,`, `;` & `.` separators added to keep track.\n",
    "\n",
    "We might also add that George is a Person, but not a Patient, and that he is 70, and we can use `a` for rdf:type`:\n",
    "\n",
    "\n",
    "```turtle\n",
    "PREFIX people: <https://linked.data.gov.au/dataset/people/>\n",
    "PREFIX schema: <https://schema.org/>\n",
    "\n",
    "people:nick\n",
    "    a\n",
    "        schema:Person ,\n",
    "        schema:Patient ;\n",
    "    schema:name \"Nick\" ;\n",
    "    schema:age 42 ;\n",
    "    schema:parent people:george ;\n",
    ".\n",
    "\n",
    "people:george\n",
    "    a schema:Person ;\n",
    "    schema:name \"George\" ;\n",
    "    schema:age 70 ;\n",
    ".\n",
    "```\n",
    "\n",
    "There are many other RDF data formats that all store the same information as Turtle but with different foci, such as speed of data loading. Turtle is the most numan-readable.\n",
    "\n",
    "SPARQL queries look a lot like Turtle data with some values replaced by variables..."
   ],
   "id": "3572e27146c546f8"
  },
  {
   "cell_type": "markdown",
   "id": "a4c0893a-6cc6-4c1a-849a-e6f21dd0a580",
   "metadata": {},
   "source": [
    "## 1.3. Querying RDF with graph pattern matches\n",
    "\n",
    "In the Turtle data above, there are two people, `people:nick` and `people:george`. To find all the people with age greater than 50 (just George), we can query the data like this:\n",
    "\n",
    "```sparql\n",
    "PREFIX people: <https://linked.data.gov.au/dataset/people/>\n",
    "PREFIX schema: <https://schema.org/>\n",
    "\n",
    "SELECT ?p\n",
    "WHERE {\n",
    "    ?p \n",
    "        a schema:Person ;\n",
    "        schema:age ?age ;\n",
    "    .\n",
    "\n",
    "    FILTER (?age > 50)\n",
    "}\n",
    "```\n",
    "\n",
    "Let's really run this:"
   ]
  },
  {
   "metadata": {
    "ExecuteTime": {
     "end_time": "2025-10-27T05:48:35.893104Z",
     "start_time": "2025-10-27T05:48:35.885751Z"
    }
   },
   "cell_type": "code",
   "source": [
    "# import a few Python dependencies\n",
    "from IPython.display import display, Markdown\n",
    "from kurra.sparql import query\n",
    "from kurra.utils import render_sparql_result"
   ],
   "id": "3f73763c4ae1a8a6",
   "outputs": [],
   "execution_count": 8
  },
  {
   "metadata": {
    "ExecuteTime": {
     "end_time": "2025-10-27T05:48:36.675993Z",
     "start_time": "2025-10-27T05:48:36.672330Z"
    }
   },
   "cell_type": "code",
   "source": [
    "# create a small function to pretty-print tables of data\n",
    "def table_print(r):\n",
    "    display(Markdown(render_sparql_result(r)))"
   ],
   "id": "b9e980125763c340",
   "outputs": [],
   "execution_count": 9
  },
  {
   "metadata": {
    "ExecuteTime": {
     "end_time": "2025-10-27T05:48:37.706911Z",
     "start_time": "2025-10-27T05:48:37.703583Z"
    }
   },
   "cell_type": "code",
   "source": [
    "# create the data, by hand\n",
    "rdf_data = \"\"\"\n",
    "PREFIX people: <https://linked.data.gov.au/dataset/people/>\n",
    "PREFIX schema: <https://schema.org/>\n",
    "\n",
    "people:nick\n",
    "    a\n",
    "        schema:Person ,\n",
    "        schema:Patient ;\n",
    "    schema:name \"Nick\" ;\n",
    "    schema:age 42 ;\n",
    "    schema:parent people:george ;\n",
    ".\n",
    "\n",
    "people:george\n",
    "    a schema:Person ;\n",
    "    schema:name \"George\" ;\n",
    "    schema:age 70 ;\n",
    ".\n",
    "\"\"\""
   ],
   "id": "37e0232e54a7a0ee",
   "outputs": [],
   "execution_count": 10
  },
  {
   "metadata": {
    "ExecuteTime": {
     "end_time": "2025-10-27T05:48:39.093256Z",
     "start_time": "2025-10-27T05:48:39.090782Z"
    }
   },
   "cell_type": "code",
   "source": [
    "# create a query to match the 'shape' (pattern) of the data for things with a name and an age > 50\n",
    "q = \"\"\"\n",
    "PREFIX people: <https://linked.data.gov.au/dataset/people/>\n",
    "PREFIX schema: <https://schema.org/>\n",
    "\n",
    "SELECT ?p ?name\n",
    "WHERE {\n",
    "    ?p\n",
    "        schema:name ?name ;\n",
    "        schema:age ?age ;\n",
    "    .\n",
    "\n",
    "    FILTER (?age > 50)\n",
    "}\n",
    "\"\"\""
   ],
   "id": "7dd256cf5eaf08df",
   "outputs": [],
   "execution_count": 11
  },
  {
   "cell_type": "code",
   "id": "d36073ef-48ea-4bc3-86ee-1cd21930c170",
   "metadata": {
    "ExecuteTime": {
     "end_time": "2025-10-27T05:48:40.073041Z",
     "start_time": "2025-10-27T05:48:40.047299Z"
    }
   },
   "source": [
    "# run the query against the data\n",
    "r = query(rdf_data, q)\n",
    "\n",
    "# neatly print the result\n",
    "# we should get a single line output table of data for \"George\".\n",
    "table_print(r)"
   ],
   "outputs": [
    {
     "data": {
      "text/plain": [
       "<IPython.core.display.Markdown object>"
      ],
      "text/markdown": "| p | name |\n| --- | --- |\n[george](https://linked.data.gov.au/dataset/people/george) | George |\n"
     },
     "metadata": {},
     "output_type": "display_data",
     "jetTransient": {
      "display_id": null
     }
    }
   ],
   "execution_count": 12
  },
  {
   "metadata": {},
   "cell_type": "markdown",
   "source": "Let's query _through_ a Blank Node:",
   "id": "526e81735438915a"
  },
  {
   "metadata": {
    "ExecuteTime": {
     "end_time": "2025-10-27T05:48:43.593780Z",
     "start_time": "2025-10-27T05:48:43.590796Z"
    }
   },
   "cell_type": "code",
   "source": [
    "rdf_bn = \"\"\"\n",
    "PREFIX dr: <https://linked.data.gov.au/def/data-roles/>\n",
    "PREFIX ex: <http://example.com/>\n",
    "PREFIX people: <https://linked.data.gov.au/dataset/people/>\n",
    "PREFIX prov: <http://www.w3.org/ns/prov#>\n",
    "PREFIX schema: <https://schema.org/>\n",
    "\n",
    "ex:a\n",
    "    a schema:Dataset ;\n",
    "    schema:name \"Dataset A\" ;\n",
    "    # here is a Blank Node\n",
    "    prov:qualifiedAttribution [\n",
    "        prov:agent people:px ;\n",
    "        prov:hadRole dr:custodian ;\n",
    "    ] ,\n",
    "    # here is another Blank Node\n",
    "    [\n",
    "        prov:agent people:py ;\n",
    "        prov:hadRole dr:rightsHolder\n",
    "    ] ;\n",
    ".\n",
    "\n",
    "people:px\n",
    "    a schema:Person ;\n",
    "    schema:name \"Person X\" ;\n",
    ".\n",
    "\n",
    "people:py\n",
    "    a schema:Person ;\n",
    "    schema:name \"Person Y\" ;\n",
    ".\n",
    "\"\"\""
   ],
   "id": "a9655c253dfa458d",
   "outputs": [],
   "execution_count": 13
  },
  {
   "cell_type": "code",
   "id": "cafa2709-9c5a-40ab-a9e5-c1debeccb8b1",
   "metadata": {
    "ExecuteTime": {
     "end_time": "2025-10-27T05:48:44.273321Z",
     "start_time": "2025-10-27T05:48:44.270466Z"
    }
   },
   "source": [
    "q = \"\"\"\n",
    "PREFIX dr: <https://linked.data.gov.au/def/data-roles/>\n",
    "PREFIX prov: <http://www.w3.org/ns/prov#>\n",
    "PREFIX schema: <https://schema.org/>\n",
    "\n",
    "SELECT ?name\n",
    "WHERE {\n",
    "    # here we are matching the 'shape' of the Blank Node(s)\n",
    "    ?bn \n",
    "        prov:agent ?person ;\n",
    "        prov:hadRole dr:rightsHolder ;\n",
    "    .\n",
    "\n",
    "    ?person schema:name ?name .\n",
    "}\n",
    "\"\"\""
   ],
   "outputs": [],
   "execution_count": 14
  },
  {
   "metadata": {
    "ExecuteTime": {
     "end_time": "2025-10-27T05:48:45.039772Z",
     "start_time": "2025-10-27T05:48:45.022358Z"
    }
   },
   "cell_type": "code",
   "source": [
    "r = query(rdf_bn, q)\n",
    "table_print(r)\n",
    "# we should get Person Y - the Rights Holder"
   ],
   "id": "47e2b2290fea34fa",
   "outputs": [
    {
     "data": {
      "text/plain": [
       "<IPython.core.display.Markdown object>"
      ],
      "text/markdown": "| name |\n| --- |\nPerson Y |\n"
     },
     "metadata": {},
     "output_type": "display_data",
     "jetTransient": {
      "display_id": null
     }
    }
   ],
   "execution_count": 15
  },
  {
   "cell_type": "markdown",
   "id": "a3c9352e-815a-420a-9438-1a1e91ff85a3",
   "metadata": {},
   "source": [
    "The query above finds all Blank Nodes with a `prov:hadRole` value of `dr:rightsHolder` and their `prov:agent` values. It then finds the `schema:name` valus for the `prov:agent` values.\n",
    "\n",
    "To find the person with role of `dr:rightsHolder` in relation to dataset `ex:a` only - we may have many datasets with many roles:\n",
    "\n",
    "```sparql\n",
    "PREFIX dr: <https://linked.data.gov.au/def/data-roles/>\n",
    "PREFIX prov: <http://www.w3.org/ns/prov#>\n",
    "PREFIX schema: <https://schema.org/>\n",
    "\n",
    "SELECT ?name\n",
    "WHERE {\n",
    "    ex:a\n",
    "        a schema:Dataset ;\n",
    "        prov:qualifiedAttribution ?bn ;\n",
    "    .\n",
    "        \n",
    "    ?bn \n",
    "        prov:agent ?person ;\n",
    "        prov:hadRole dr:rightsHolder ;\n",
    "    .\n",
    "\n",
    "    ?person schema:name ?name .\n",
    "}\n",
    "```"
   ]
  },
  {
   "metadata": {},
   "cell_type": "markdown",
   "source": "### _Q: Try the query above but looking for the custodian_",
   "id": "b1fc797da1352f09"
  },
  {
   "metadata": {},
   "cell_type": "code",
   "outputs": [],
   "execution_count": null,
   "source": "",
   "id": "59331e56e8a586bd"
  }
 ],
 "metadata": {
  "kernelspec": {
   "display_name": "Python 3 (ipykernel)",
   "language": "python",
   "name": "python3"
  },
  "language_info": {
   "codemirror_mode": {
    "name": "ipython",
    "version": 3
   },
   "file_extension": ".py",
   "mimetype": "text/x-python",
   "name": "python",
   "nbconvert_exporter": "python",
   "pygments_lexer": "ipython3",
   "version": "3.12.8"
  }
 },
 "nbformat": 4,
 "nbformat_minor": 5
}
