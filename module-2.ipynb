{
 "cells": [
  {
   "cell_type": "markdown",
   "id": "52c29bd2328a80c9",
   "metadata": {},
   "source": [
    "# 2. Querying RDF - SPARQL\n",
    "\n",
    "This module applies simple SPARQL queries to simple data.\n",
    "\n",
    "Some pre-build Python functions are used to lodge the query and present neat results:\n",
    "\n",
    "* `query()` - the [kurra]() toolki's general-purpose query function that works with inline RDF data or databased\n",
    "* `table_print()` - a function that lets Jupyter Notebooks render a SPARQL query result in Markdown nicely\n",
    "\n",
    "---"
   ]
  },
  {
   "cell_type": "markdown",
   "id": "99ae5808-be8a-469f-8b7f-7b236f3e3c82",
   "metadata": {},
   "source": [
    "## 2.1. Running a basic query\n",
    "\n",
    "The Turtle data from Notebook 1 was:\n",
    "\n",
    "```turtle\n",
    "PREFIX people: <https://linked.data.gov.au/dataset/people/>\n",
    "PREFIX schema: <https://schema.org/>\n",
    "\n",
    "people:nick\n",
    "    a\n",
    "        schema:Person ,\n",
    "        schema:Patient ;\n",
    "    schema:name \"Nick\" ;\n",
    "    schema:age 42 ;\n",
    "    schema:parent people:george ;\n",
    ".\n",
    "\n",
    "people:george\n",
    "    a schema:Person ;\n",
    "    schema:name \"George\" ;\n",
    "    schema:age 70 ;\n",
    ".\n",
    "```\n",
    "\n",
    "Here there are two people, `people:nick` and `people:george`. To find all the people with age greater than 50 (just George), we can query the data like this:\n",
    "\n",
    "```sparql\n",
    "PREFIX people: <https://linked.data.gov.au/dataset/people/>\n",
    "PREFIX schema: <https://schema.org/>\n",
    "\n",
    "SELECT ?p\n",
    "WHERE {\n",
    "    ?p\n",
    "        a schema:Person ;\n",
    "        schema:age ?age ;\n",
    "    .\n",
    "\n",
    "    FILTER (?age > 50)\n",
    "}\n",
    "```\n",
    "\n",
    "This part matches a \"subgraph\":\n",
    "\n",
    "```\n",
    "    ?p\n",
    "        a schema:Person ;\n",
    "        schema:age ?age ;\n",
    "    .\n",
    "```\n",
    "\n",
    "where `?p` & `?age` are variables and `a`, `schema:Person` & `schema:name` are all fixed values.\n",
    "\n",
    "This part filters all the matched subgraphs:\n",
    "\n",
    "```FILTER (?age > 50)```\n",
    "\n",
    "Let's really run this:"
   ]
  },
  {
   "cell_type": "code",
   "execution_count": 1,
   "id": "8dda821e5d7c56d3",
   "metadata": {},
   "outputs": [],
   "source": [
    "# importing some things we need\n",
    "from IPython.display import display, Markdown\n",
    "from kurra.sparql import query\n",
    "from kurra.utils import render_sparql_result\n",
    "\n",
    "# a pretty table printing function\n",
    "def table_print(r):\n",
    "    display(Markdown(render_sparql_result(r)))\n",
    "\n",
    "\n",
    "# our data, in Turtle format\n",
    "rdf_data = \"\"\"\n",
    "PREFIX people: <https://linked.data.gov.au/dataset/people/>\n",
    "PREFIX schema: <https://schema.org/>\n",
    "\n",
    "people:nick\n",
    "    a\n",
    "        schema:Person ,\n",
    "        schema:Patient ;\n",
    "    schema:name \"Nick\" ;\n",
    "    schema:age 42 ;\n",
    "    schema:parent people:george ;\n",
    ".\n",
    "\n",
    "people:george\n",
    "    a schema:Person ;\n",
    "    schema:name \"George\" ;\n",
    "    schema:age 70 ;\n",
    ".\n",
    "\"\"\"\n",
    "\n",
    "# our SPARQL query\n",
    "q = \"\"\"\n",
    "PREFIX people: <https://linked.data.gov.au/dataset/people/>\n",
    "PREFIX schema: <https://schema.org/>\n",
    "\n",
    "SELECT ?p ?name\n",
    "WHERE {\n",
    "    ?p\n",
    "        a schema:Person ;\n",
    "        schema:name ?name ;\n",
    "        schema:age ?age ;\n",
    "    .\n",
    "\n",
    "    FILTER (?age > 50)\n",
    "}\n",
    "\"\"\""
   ]
  },
  {
   "cell_type": "code",
   "execution_count": null,
   "id": "d33d12f7-70d2-449f-b3ae-48483a58660c",
   "metadata": {},
   "outputs": [],
   "source": [
    "# run the query on the data\n",
    "r = query(rdf_data, q)\n",
    "table_print(r)"
   ]
  },
  {
   "cell_type": "markdown",
   "id": "e2bc09c7-c4c8-4b95-ac83-8a517412f21a",
   "metadata": {},
   "source": [
    "If we have 2 people older than 50 and we wanted their ages:"
   ]
  },
  {
   "cell_type": "code",
   "execution_count": null,
   "id": "5b74ee5d-adce-4c6f-b559-78bd4909fc46",
   "metadata": {},
   "outputs": [],
   "source": [
    "rdf_data2 = \"\"\"\n",
    "PREFIX ex: <http://example.com/>\n",
    "PREFIX people: <https://linked.data.gov.au/dataset/people/>\n",
    "PREFIX schema: <https://schema.org/>\n",
    "\n",
    "people:nick\n",
    "    a\n",
    "        schema:Person ,\n",
    "        schema:Patient ;\n",
    "    schema:name \"Nick\" ;\n",
    "    schema:age 42 ;\n",
    "    schema:parent people:george ;\n",
    ".\n",
    "\n",
    "people:george\n",
    "    a schema:Person ;\n",
    "    schema:name \"George\" ;\n",
    "    schema:age 70 ;\n",
    "    schema:gender ex:male ;\n",
    "    schema:spouse people:cathy ;  # NEW\n",
    ".\n",
    "\n",
    "people:cathy\n",
    "    a schema:Person ;\n",
    "    schema:name \"Cathy\" ;\n",
    "    schema:gender ex:female ;\n",
    "    schema:age 68 ;\n",
    "    schema:spouse people:george ; # symetrical\n",
    ".\n",
    "\"\"\"\n",
    "\n",
    "q2 = \"\"\"\n",
    "PREFIX people: <https://linked.data.gov.au/dataset/people/>\n",
    "PREFIX schema: <https://schema.org/>\n",
    "\n",
    "SELECT ?name ?age\n",
    "WHERE {\n",
    "    ?p\n",
    "        a schema:Person ;\n",
    "        schema:name ?name ;\n",
    "        schema:age ?age ;\n",
    "    .\n",
    "\n",
    "    FILTER (?age > 50)\n",
    "}\n",
    "\"\"\"\n",
    "\n",
    "r = query(rdf_data2, q2)\n",
    "table_print(r)"
   ]
  },
  {
   "cell_type": "markdown",
   "id": "1965011f-7051-4536-9302-5f7d91006c45",
   "metadata": {},
   "source": [
    "> **&#9432;** Have a think about how the query is matching elements in the RDF graph and what could be done to reduce the results from 2 to 1 by either FILTERing on additional criteria or matching on additional nodes."
   ]
  },
  {
   "cell_type": "markdown",
   "id": "98fefabf-9935-4dc0-b114-617f16d7a13d",
   "metadata": {},
   "source": [
    "## 2.2. Running a query on a DB\n",
    "\n",
    "Run a query for 10 Concepts from the KurrawongAI demo server within the _Seabed geomorphology - Part 1 Morphology_ vocabulary:"
   ]
  },
  {
   "metadata": {},
   "cell_type": "markdown",
   "source": [
    "SPARQL consists not only of a query language, but also:\n",
    "\n",
    "* **update extension** - how to perform write queries and manipulate whole datasets\n",
    "* **service description** - how to describe the capabilities of a SPARQL DB\n",
    "* **protocol** - defining how queries are to be sent to remote servers\n",
    "* **several results formats**\n",
    "\n",
    "All the SPARQL documents link to these, see <https://www.w3.org/TR/sparql12-query/#related>\n",
    "\n",
    "Having a defined _protocol_ allows us to know how to interact with any DB claiming to conform to SPARQL.\n",
    "\n",
    "We do this via HTTP (web) requests."
   ],
   "id": "831db4f6ab5e82ab"
  },
  {
   "metadata": {},
   "cell_type": "markdown",
   "source": "Let's just get on and perform a SPARQL query using a public-avialable \"SPARQL Endpoint\":",
   "id": "81406853dcebe74c"
  },
  {
   "cell_type": "code",
   "id": "26bbe234-f100-4386-8ba7-8c570982dcae",
   "metadata": {
    "ExecuteTime": {
     "end_time": "2025-10-27T05:10:32.538345Z",
     "start_time": "2025-10-27T05:10:32.336278Z"
    }
   },
   "source": [
    "# importing some Python things we need\n",
    "from IPython.display import display, Markdown\n",
    "from kurra.sparql import query\n",
    "from kurra.utils import render_sparql_result\n",
    "\n",
    "# a pretty table printing function\n",
    "def table_print(r):\n",
    "    display(Markdown(render_sparql_result(r)))\n",
    "\n",
    "# a simple query to list terms in a vocabulary - Seabed geomorphology - Part 1 Morphology\n",
    "q = \"\"\"\n",
    "PREFIX skos: <http://www.w3.org/2004/02/skos/core#>\n",
    "\n",
    "SELECT ?c ?pl\n",
    "WHERE {\n",
    "  ?c\n",
    "    a skos:Concept ;\n",
    "    skos:inScheme <https://pid.geoscience.gov.au/def/voc/ga/SeabedGeomorphologyMorphology> ;\n",
    "  \tskos:prefLabel ?pl ;\n",
    "  .\n",
    "}\n",
    "ORDER BY ?pl\n",
    "LIMIT 10\n",
    "\"\"\"\n",
    "\n",
    "# run the query against the DB\n",
    "r = query(\"https://prez.niceforest-128e6d31.australiaeast.azurecontainerapps.io/sparql\", q)\n",
    "\n",
    "# pretty-print the result\n",
    "table_print(r)"
   ],
   "outputs": [
    {
     "data": {
      "text/plain": [
       "<IPython.core.display.Markdown object>"
      ],
      "text/markdown": "| c | pl |\n| --- | --- |\n[apron](https://pid.geoscience.gov.au/def/voc/ga/SeabedGeomorphologyMorphology/apron) | Apron\n| [bank](https://pid.geoscience.gov.au/def/voc/ga/SeabedGeomorphologyMorphology/bank) | Bank\n| [block](https://pid.geoscience.gov.au/def/voc/ga/SeabedGeomorphologyMorphology/block) | Block\n| [break_in_slope](https://pid.geoscience.gov.au/def/voc/ga/SeabedGeomorphologyMorphology/break_in_slope) | Break in Slope\n| [canyon](https://pid.geoscience.gov.au/def/voc/ga/SeabedGeomorphologyMorphology/canyon) | Canyon\n| [centreline](https://pid.geoscience.gov.au/def/voc/ga/SeabedGeomorphologyMorphology/centreline) | Centreline\n| [channel](https://pid.geoscience.gov.au/def/voc/ga/SeabedGeomorphologyMorphology/channel) | Channel\n| [cone](https://pid.geoscience.gov.au/def/voc/ga/SeabedGeomorphologyMorphology/cone) | Cone\n| [crest](https://pid.geoscience.gov.au/def/voc/ga/SeabedGeomorphologyMorphology/crest) | Crest\n| [crevice](https://pid.geoscience.gov.au/def/voc/ga/SeabedGeomorphologyMorphology/crevice) | Crevice |\n"
     },
     "metadata": {},
     "output_type": "display_data",
     "jetTransient": {
      "display_id": null
     }
    }
   ],
   "execution_count": 3
  },
  {
   "cell_type": "markdown",
   "id": "70e6bee2-33b3-4ce1-aa4f-aeed2dbd509c",
   "metadata": {},
   "source": [
    "*## 2.3. A SPARQL Endpoint UI\n",
    "\n",
    "Now we will try this directly on the DB UI and talk through that interface: \n",
    "\n",
    "* <https://demo.dev.kurrawong.ai/sparql>"
   ]
  }
 ],
 "metadata": {
  "kernelspec": {
   "display_name": "Python 3 (ipykernel)",
   "language": "python",
   "name": "python3"
  },
  "language_info": {
   "codemirror_mode": {
    "name": "ipython",
    "version": 3
   },
   "file_extension": ".py",
   "mimetype": "text/x-python",
   "name": "python",
   "nbconvert_exporter": "python",
   "pygments_lexer": "ipython3",
   "version": "3.12.8"
  }
 },
 "nbformat": 4,
 "nbformat_minor": 5
}
