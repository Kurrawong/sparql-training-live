{
 "cells": [
  {
   "cell_type": "markdown",
   "id": "52c29bd2328a80c9",
   "metadata": {},
   "source": [
    "# 2. Querying RDF - SPARQL\n",
    "\n",
    "This module applies simple SPARQL queries to simple data.\n",
    "\n",
    "Some pre-build Python functions are used to lodge the query and present neat results:\n",
    "\n",
    "* `query()` - the [kurra]() toolki's general-purpose query function that works with inline RDF data or databased\n",
    "* `table_print()` - a function that lets Jupyter Notebooks render a SPARQL query result in Markdown nicely\n",
    "\n",
    "---"
   ]
  },
  {
   "cell_type": "markdown",
   "id": "99ae5808-be8a-469f-8b7f-7b236f3e3c82",
   "metadata": {},
   "source": [
    "## 2.1. Revision: Running a basic query\n",
    "\n",
    "The Turtle data from Notebook 1 was:\n",
    "\n",
    "```turtle\n",
    "PREFIX people: <https://linked.data.gov.au/dataset/people/>\n",
    "PREFIX schema: <https://schema.org/>\n",
    "\n",
    "people:nick\n",
    "    a\n",
    "        schema:Person ,\n",
    "        schema:Patient ;\n",
    "    schema:name \"Nick\" ;\n",
    "    schema:age 42 ;\n",
    "    schema:parent people:george ;\n",
    ".\n",
    "\n",
    "people:george\n",
    "    a schema:Person ;\n",
    "    schema:name \"George\" ;\n",
    "    schema:age 70 ;\n",
    ".\n",
    "```\n",
    "\n",
    "Here there are two people, `people:nick` and `people:george`. To find all the people with age greater than 50 (just George), we can query the data like this:\n",
    "\n",
    "```sparql\n",
    "PREFIX people: <https://linked.data.gov.au/dataset/people/>\n",
    "PREFIX schema: <https://schema.org/>\n",
    "\n",
    "SELECT ?p\n",
    "WHERE {\n",
    "    ?p\n",
    "        a schema:Person ;\n",
    "        schema:age ?age ;\n",
    "    .\n",
    "\n",
    "    FILTER (?age > 50)\n",
    "}\n",
    "```\n",
    "\n",
    "This part matches a \"subgraph\":\n",
    "\n",
    "```\n",
    "    ?p\n",
    "        a schema:Person ;\n",
    "        schema:age ?age ;\n",
    "    .\n",
    "```\n",
    "\n",
    "where `?p` & `?age` are variables and `a`, `schema:Person` & `schema:name` are all fixed values.\n",
    "\n",
    "This part filters all the matched subgraphs:\n",
    "\n",
    "```FILTER (?age > 50)```\n",
    "\n",
    "Let's really run this:"
   ]
  },
  {
   "cell_type": "code",
   "id": "8dda821e5d7c56d3",
   "metadata": {
    "ExecuteTime": {
     "end_time": "2025-10-28T02:40:02.643404Z",
     "start_time": "2025-10-28T02:40:02.544343Z"
    }
   },
   "source": [
    "# importing some things we need\n",
    "from IPython.display import display, Markdown\n",
    "from kurra.sparql import query\n",
    "from kurra.utils import render_sparql_result\n",
    "\n",
    "# a pretty table printing function\n",
    "def table_print(r):\n",
    "    display(Markdown(render_sparql_result(r)))\n",
    "\n",
    "\n",
    "# our data, in Turtle format\n",
    "rdf_data = \"\"\"\n",
    "PREFIX people: <https://linked.data.gov.au/dataset/people/>\n",
    "PREFIX schema: <https://schema.org/>\n",
    "\n",
    "people:nick\n",
    "    a\n",
    "        schema:Person ,\n",
    "        schema:Patient ;\n",
    "    schema:name \"Nick\" ;\n",
    "    schema:age 42 ;\n",
    "    schema:parent people:george ;\n",
    ".\n",
    "\n",
    "people:george\n",
    "    a schema:Person ;\n",
    "    schema:name \"George\" ;\n",
    "    schema:age 70 ;\n",
    ".\n",
    "\"\"\"\n",
    "\n",
    "# our SPARQL query\n",
    "q = \"\"\"\n",
    "PREFIX people: <https://linked.data.gov.au/dataset/people/>\n",
    "PREFIX schema: <https://schema.org/>\n",
    "\n",
    "SELECT ?p ?name\n",
    "WHERE {\n",
    "    ?p\n",
    "        a schema:Person ;\n",
    "        schema:name ?name ;\n",
    "        schema:age ?age ;\n",
    "    .\n",
    "\n",
    "    FILTER (?age > 50)\n",
    "}\n",
    "\"\"\""
   ],
   "outputs": [],
   "execution_count": 2
  },
  {
   "cell_type": "code",
   "id": "d33d12f7-70d2-449f-b3ae-48483a58660c",
   "metadata": {},
   "source": [
    "# run the query on the data\n",
    "r = query(rdf_data, q)\n",
    "table_print(r)"
   ],
   "outputs": [],
   "execution_count": null
  },
  {
   "cell_type": "markdown",
   "id": "e2bc09c7-c4c8-4b95-ac83-8a517412f21a",
   "metadata": {},
   "source": [
    "If we have 2 people older than 50 and we wanted their ages:"
   ]
  },
  {
   "cell_type": "code",
   "id": "5b74ee5d-adce-4c6f-b559-78bd4909fc46",
   "metadata": {},
   "source": [
    "rdf_data2 = \"\"\"\n",
    "PREFIX ex: <http://example.com/>\n",
    "PREFIX people: <https://linked.data.gov.au/dataset/people/>\n",
    "PREFIX schema: <https://schema.org/>\n",
    "\n",
    "people:nick\n",
    "    a\n",
    "        schema:Person ,\n",
    "        schema:Patient ;\n",
    "    schema:name \"Nick\" ;\n",
    "    schema:age 42 ;\n",
    "    schema:parent people:george ;\n",
    ".\n",
    "\n",
    "people:george\n",
    "    a schema:Person ;\n",
    "    schema:name \"George\" ;\n",
    "    schema:age 70 ;\n",
    "    schema:spouse people:cathy ;  # NEW\n",
    ".\n",
    "\n",
    "people:cathy\n",
    "    a schema:Person ;\n",
    "    schema:name \"Cathy\" ;\n",
    "    schema:age 68 ;\n",
    "    schema:spouse people:george ; # symmetrical\n",
    ".\n",
    "\"\"\"\n",
    "\n",
    "q2 = \"\"\"\n",
    "PREFIX people: <https://linked.data.gov.au/dataset/people/>\n",
    "PREFIX schema: <https://schema.org/>\n",
    "\n",
    "SELECT ?name ?age\n",
    "WHERE {\n",
    "    ?p\n",
    "        a schema:Person ;\n",
    "        schema:name ?name ;\n",
    "        schema:age ?age ;\n",
    "    .\n",
    "\n",
    "    FILTER (?age > 50)\n",
    "}\n",
    "\"\"\"\n",
    "\n",
    "r = query(rdf_data2, q2)\n",
    "table_print(r)"
   ],
   "outputs": [],
   "execution_count": null
  },
  {
   "metadata": {},
   "cell_type": "markdown",
   "source": [
    "## 2.2 Interactive Query making Session\n",
    "\n",
    "For the following data, we will make some queries interactively."
   ],
   "id": "f92cfcb7da8e7ded"
  },
  {
   "metadata": {
    "ExecuteTime": {
     "end_time": "2025-10-28T02:51:56.265825Z",
     "start_time": "2025-10-28T02:51:56.261071Z"
    }
   },
   "cell_type": "code",
   "source": [
    "rdf_data3 = \"\"\"\n",
    "PREFIX ex: <http://example.com/>\n",
    "PREFIX people: <https://linked.data.gov.au/dataset/people/>\n",
    "PREFIX rdfs: <http://www.w3.org/2000/01/rdf-schema#>\n",
    "PREFIX schema: <https://schema.org/>\n",
    "\n",
    "# linking Patient to Person, using information from schema.org\n",
    "schema:Patient\n",
    "    rdfs:subclassOf schema:Person ;\n",
    ".\n",
    "\n",
    "people:nick\n",
    "    a schema:Patient ;\n",
    "    schema:name \"Nick\" ;\n",
    "    schema:age 42 ;\n",
    "    schema:parent people:george ;\n",
    ".\n",
    "\n",
    "people:george\n",
    "    a schema:Person ;\n",
    "    schema:name \"George\" ;\n",
    "    schema:age 70 ;\n",
    "    ex:sex ex:male ;\n",
    "    schema:spouse people:cathy ;\n",
    "    schema:parent\n",
    "        people:miko ,\n",
    "        people:vasma ;\n",
    ".\n",
    "\n",
    "people:cathy\n",
    "    a schema:Person ;\n",
    "    schema:name \"Cathy\" ;\n",
    "    ex:sex ex:female ;\n",
    "    schema:age 68 ;\n",
    "    schema:spouse people:george ;\n",
    ".\n",
    "\n",
    "people:miko\n",
    "    a schema:Person ;\n",
    "    schema:name \"Miko\" ;\n",
    "    ex:sex ex:male ;\n",
    ".\n",
    "\n",
    "people:vasma\n",
    "    a schema:Person ;\n",
    "    schema:name \"Vasma\" ;\n",
    "    ex:sex ex:female ;\n",
    ".\n",
    "\"\"\""
   ],
   "id": "636e93302ba27bd2",
   "outputs": [],
   "execution_count": 13
  },
  {
   "metadata": {},
   "cell_type": "markdown",
   "source": [
    "Make queries to answer the following:\n",
    "\n",
    "1. Who are all the `Person` instances\n",
    "    * hint: not just those typed as `schema:Person`\n",
    "2. Find all the persons with a spouse\n",
    "3. Find all the male spouses\n",
    "4. Find all the parents of Nick\n",
    "    * hint: not just those people declared directly as such\n",
    "5. Find all the grandparents of Nick"
   ],
   "id": "62419b46aeded43d"
  },
  {
   "metadata": {},
   "cell_type": "code",
   "source": [
    "# incomplete answer for 1. above\n",
    "q3 = \"\"\"\n",
    "    PREFIX schema: <https://schema.org/>\n",
    "\n",
    "    SELECT ?p ?name\n",
    "    WHERE {\n",
    "        ?p\n",
    "            a schema:Person ;\n",
    "            schema:name ?name ;\n",
    "        .\n",
    "    }\n",
    "    ORDER BY ?name\n",
    "    \"\"\"\n",
    "\n",
    "r = query(rdf_data3, q3)\n",
    "table_print(r)"
   ],
   "id": "79cb5ececaa7af05",
   "outputs": [],
   "execution_count": null
  },
  {
   "metadata": {},
   "cell_type": "markdown",
   "source": [
    "## 2.3 Querying RDF files\n",
    "\n",
    "We will now write the code to query an RDF file stored on disk, not just a Python data object.\n",
    "\n",
    "The data in the `rdf_data3` python variable above is replicated in the file `module-2-persons.ttl` which we can query like this:"
   ],
   "id": "b2aa3d7d2a58afb6"
  },
  {
   "metadata": {
    "ExecuteTime": {
     "end_time": "2025-10-28T02:54:50.311964Z",
     "start_time": "2025-10-28T02:54:50.248114Z"
    }
   },
   "cell_type": "code",
   "source": [
    "# create the query\n",
    "q = \"\"\"\n",
    "    PREFIX schema: <https://schema.org/>\n",
    "\n",
    "    SELECT ?p ?name\n",
    "    WHERE {\n",
    "        ?p\n",
    "            a schema:Person ;\n",
    "            schema:name ?name ;\n",
    "        .\n",
    "    }\n",
    "    ORDER BY ?name\n",
    "    \"\"\"\n",
    "\n",
    "# import Python's Path module to access files\n",
    "from pathlib import Path\n",
    "\n",
    "# query the file, just like querying data\n",
    "r = query(Path(\"module-2-files/persons.ttl\"), q)\n",
    "table_print(r)"
   ],
   "id": "b4eb217318ec208a",
   "outputs": [
    {
     "data": {
      "text/plain": [
       "<IPython.core.display.Markdown object>"
      ],
      "text/markdown": "| p | name |\n| --- | --- |\n[cathy](https://linked.data.gov.au/dataset/people/cathy) | Cathy\n| [george](https://linked.data.gov.au/dataset/people/george) | George\n| [miko](https://linked.data.gov.au/dataset/people/miko) | Miko\n| [vasma](https://linked.data.gov.au/dataset/people/vasma) | Vasma |\n"
     },
     "metadata": {},
     "output_type": "display_data",
     "jetTransient": {
      "display_id": null
     }
    }
   ],
   "execution_count": 19
  },
  {
   "metadata": {},
   "cell_type": "markdown",
   "source": [
    "### 2.3.1 additional file handling\n",
    "\n",
    "To query multiple files, load each into an in-memory graph like this:"
   ],
   "id": "fee6bc222d5be3e4"
  },
  {
   "metadata": {
    "ExecuteTime": {
     "end_time": "2025-10-28T02:55:04.523041Z",
     "start_time": "2025-10-28T02:55:04.496861Z"
    }
   },
   "cell_type": "code",
   "source": [
    "from rdflib import Graph\n",
    "\n",
    "g = Graph()\n",
    "print(f\"Created g, g now has {len(g)} triples\")\n",
    "g.parse(\"module-2-files/persons.ttl\")\n",
    "print(f\"Loaded persons.ttl, g now has {len(g)} triples\")\n",
    "g.parse(\"module-2-files/schema-org-bits.ttl\")\n",
    "print(f\"Loaded schema-org-bits.ttl, g now {len(g)} triples\")\n",
    "\n",
    "q = \"\"\"\n",
    "    PREFIX schema: <https://schema.org/>\n",
    "\n",
    "    SELECT ?p ?name\n",
    "    WHERE {\n",
    "        VALUES ?t {\n",
    "            schema:Person\n",
    "            schema:Patient\n",
    "        }\n",
    "\n",
    "        ?p\n",
    "            a ?t ;\n",
    "            schema:name ?name ;\n",
    "        .\n",
    "    }\n",
    "    ORDER BY ?name\n",
    "    \"\"\"\n",
    "\n",
    "r = query(g, q)  # querying a Graph object\n",
    "table_print(r)"
   ],
   "id": "a57a4f5c4057a93c",
   "outputs": [
    {
     "name": "stdout",
     "output_type": "stream",
     "text": [
      "Created g, g now has 0 triples\n",
      "Loaded persons.ttl, g now has 23 triples\n",
      "Loaded schema-org-bits.ttl, g now 24 triples\n"
     ]
    },
    {
     "data": {
      "text/plain": [
       "<IPython.core.display.Markdown object>"
      ],
      "text/markdown": "| p | name |\n| --- | --- |\n[cathy](https://linked.data.gov.au/dataset/people/cathy) | Cathy\n| [george](https://linked.data.gov.au/dataset/people/george) | George\n| [miko](https://linked.data.gov.au/dataset/people/miko) | Miko\n| [nick](https://linked.data.gov.au/dataset/people/nick) | Nick\n| [vasma](https://linked.data.gov.au/dataset/people/vasma) | Vasma |\n"
     },
     "metadata": {},
     "output_type": "display_data",
     "jetTransient": {
      "display_id": null
     }
    }
   ],
   "execution_count": 21
  },
  {
   "metadata": {},
   "cell_type": "markdown",
   "source": "Just one more demo, a predicate (\"property\") path:",
   "id": "b4d5d1c3edd2d869"
  },
  {
   "metadata": {
    "ExecuteTime": {
     "end_time": "2025-10-28T02:58:20.062759Z",
     "start_time": "2025-10-28T02:58:20.001686Z"
    }
   },
   "cell_type": "code",
   "source": [
    "q = \"\"\"\n",
    "    PREFIX schema: <https://schema.org/>\n",
    "\n",
    "    SELECT DISTINCT ?p ?name ?cls\n",
    "    WHERE {\n",
    "        ?p\n",
    "            a ?cls ;\n",
    "            schema:name ?name ;\n",
    "        .\n",
    "\n",
    "        ?cls\n",
    "            rdfs:subclassOf* schema:Person ;\n",
    "        .\n",
    "    }\n",
    "    ORDER BY ?name\n",
    "    \"\"\"\n",
    "\n",
    "r = query(g, q)  # querying a Graph object\n",
    "table_print(r)"
   ],
   "id": "5aba0a27d47f6f32",
   "outputs": [
    {
     "data": {
      "text/plain": [
       "<IPython.core.display.Markdown object>"
      ],
      "text/markdown": "| p | name | cls |\n| --- | --- | --- |\n[cathy](https://linked.data.gov.au/dataset/people/cathy) | Cathy | [Person](https://schema.org/Person)\n| [george](https://linked.data.gov.au/dataset/people/george) | George | [Person](https://schema.org/Person)\n| [miko](https://linked.data.gov.au/dataset/people/miko) | Miko | [Person](https://schema.org/Person)\n| [nick](https://linked.data.gov.au/dataset/people/nick) | Nick | [Patient](https://schema.org/Patient)\n| [vasma](https://linked.data.gov.au/dataset/people/vasma) | Vasma | [Person](https://schema.org/Person) |\n"
     },
     "metadata": {},
     "output_type": "display_data",
     "jetTransient": {
      "display_id": null
     }
    }
   ],
   "execution_count": 31
  },
  {
   "cell_type": "markdown",
   "id": "98fefabf-9935-4dc0-b114-617f16d7a13d",
   "metadata": {},
   "source": [
    "## 2.4. Running a query on a remote DB\n",
    "\n",
    "Run a query for 10 Concepts from the KurrawongAI demo server within the _Seabed geomorphology - Part 1 Morphology_ vocabulary:"
   ]
  },
  {
   "cell_type": "markdown",
   "id": "831db4f6ab5e82ab",
   "metadata": {},
   "source": [
    "SPARQL consists not only of a query language, but also:\n",
    "\n",
    "* **update extension** - how to perform write queries and manipulate whole datasets\n",
    "* **service description** - how to describe the capabilities of a SPARQL DB\n",
    "* **protocol** - defining how queries are to be sent to remote servers\n",
    "* **several results formats**\n",
    "\n",
    "All the SPARQL documents link to these, see <https://www.w3.org/TR/sparql12-query/#related>\n",
    "\n",
    "Having a defined _protocol_ allows us to know how to interact with any DB claiming to conform to SPARQL.\n",
    "\n",
    "We do this via HTTP (web) requests."
   ]
  },
  {
   "cell_type": "markdown",
   "id": "81406853dcebe74c",
   "metadata": {},
   "source": [
    "Let's just get on and perform a SPARQL query using a public-avialable \"SPARQL Endpoint\":"
   ]
  },
  {
   "cell_type": "code",
   "id": "26bbe234-f100-4386-8ba7-8c570982dcae",
   "metadata": {},
   "source": [
    "# importing some Python things we need\n",
    "from IPython.display import display, Markdown\n",
    "from kurra.sparql import query\n",
    "from kurra.utils import render_sparql_result\n",
    "\n",
    "# a pretty table printing function\n",
    "def table_print(r):\n",
    "    display(Markdown(render_sparql_result(r)))\n",
    "\n",
    "# a simple query to list terms in a vocabulary - Seabed geomorphology - Part 1 Morphology\n",
    "q = \"\"\"\n",
    "PREFIX skos: <http://www.w3.org/2004/02/skos/core#>\n",
    "\n",
    "SELECT ?c ?pl\n",
    "WHERE {\n",
    "  ?c\n",
    "    a skos:Concept ;\n",
    "    skos:inScheme <https://pid.geoscience.gov.au/def/voc/ga/SeabedGeomorphologyMorphology> ;\n",
    "  \tskos:prefLabel ?pl ;\n",
    "  .\n",
    "}\n",
    "ORDER BY ?pl\n",
    "LIMIT 10\n",
    "\"\"\"\n",
    "\n",
    "# run the query against the DB\n",
    "r = query(\"https://prez.niceforest-128e6d31.australiaeast.azurecontainerapps.io/sparql\", q)\n",
    "\n",
    "# pretty-print the result\n",
    "table_print(r)"
   ],
   "outputs": [],
   "execution_count": null
  },
  {
   "cell_type": "markdown",
   "id": "70e6bee2-33b3-4ce1-aa4f-aeed2dbd509c",
   "metadata": {},
   "source": [
    "## 2.5. Using a SPARQL Endpoint UI\n",
    "\n",
    "Now we will try this directly on the DB UI and talk through that interface: \n",
    "\n",
    "* <https://demo.dev.kurrawong.ai/sparql>"
   ]
  },
  {
   "metadata": {},
   "cell_type": "markdown",
   "source": [
    "## 2.6 Using local SPARQL-enabled DB\n",
    "\n",
    "We can run a database locally that can respond to SPARQL queries.\n",
    "\n",
    "There are many DBs that implement the SPARQL standard, and today we will be using GraphDB locally, a free version of which can be downloaded from <https://graphdb.ontotext.com/>."
   ],
   "id": "6b315a0a939dbd25"
  },
  {
   "metadata": {},
   "cell_type": "markdown",
   "source": [
    "<div class=\"alert alert-block alert-info\"><b>Tip:</b>\n",
    "<p>GraphDB is a polished product but it's not open source and fully functional versions are not free. The free version is totally fine for non-enterprise use.</p>\n",
    "<p>For open source, free alternatives, see <a href=\"https://jena.apache.org/documentation/fuseki2/\">Fuseki</a> and <a href=\"https://rdf4j.org\">RDF4J</a>.</p>\n",
    "</div>"
   ],
   "id": "c95ac128d81ea25b"
  },
  {
   "metadata": {},
   "cell_type": "markdown",
   "source": [
    "To be demonstrated with GraphDB:\n",
    "\n",
    "* Downloading\n",
    "* Running\n",
    "* Loading an RDF data file\n",
    "* Querying"
   ],
   "id": "1226ca4569712270"
  },
  {
   "metadata": {},
   "cell_type": "markdown",
   "source": [
    "## 2.7 Training Resources\n",
    "\n",
    "Here are some SPARQL training resources for homework:\n",
    "\n",
    "1. SPARQL 1.2 Query Language\n",
    "    * https://www.w3.org/TR/sparql12-query/\n",
    "    * the main SPARQL resources\n",
    "    * links to supplementary resources for SPARQL Protocol, Results formats etc. See \"Set of Documents\" section\n",
    "2. GraphDB\n",
    "    * Free version download: https://graphdb.ontotext.com/\n",
    "    * good to play with, on your desktop\n",
    "3. _Learning SPARQL_ textbook\n",
    "    * https://www.learningsparql.com/\n",
    "    * the most commonly used intro to SPARQL book\n",
    "4. YouTube: SPARQL Tutorial\n",
    "    * https://www.youtube.com/playlist?list=PLea0WJq13cnA6k4B6Tr1ljj2nleUl9dZt\n",
    "    * a 29-part video series on SPARQL\n",
    "    * uses _Learning SPARQL_\n",
    "5. YouTube: _SPARQL in 11 minutes_\n",
    "    * https://www.youtube.com/watch?v=FvGndkpa4K0\n",
    "6. YouTube: _Stardog Academy Fundamentals: Getting Started with RDF & SPARQL_\n",
    "    * https://www.youtube.com/watch?v=bDxclRhDb-o\n",
    "    * a 1/2 hr intro to RDF & SPARQL"
   ],
   "id": "aec231c5a5237e3e"
  }
 ],
 "metadata": {
  "kernelspec": {
   "display_name": "Python 3 (ipykernel)",
   "language": "python",
   "name": "python3"
  },
  "language_info": {
   "codemirror_mode": {
    "name": "ipython",
    "version": 3
   },
   "file_extension": ".py",
   "mimetype": "text/x-python",
   "name": "python",
   "nbconvert_exporter": "python",
   "pygments_lexer": "ipython3",
   "version": "3.12.8"
  }
 },
 "nbformat": 4,
 "nbformat_minor": 5
}
