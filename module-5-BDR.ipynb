{
 "cells": [
  {
   "metadata": {
    "collapsed": true
   },
   "cell_type": "markdown",
   "source": [
    "# 5.i. BDR-specific querying\n",
    "\n",
    "This module is about implementing SPARQL queries for the Biodiversity Data Repository (BDR) system.\n",
    "\n",
    "Before training with this module, a revision of Modules 3 & 4 should be done first.\n",
    "\n",
    "### Data Access\n",
    "\n",
    "This module requires that queries be executed on a SPARQL Endpoint with access to BDR data. There are several such SPARQL Endpoint with such access to the full BDR dataset (read-only and internal to DCCEEW only), BDR test data and BDR-like data.\n",
    "\n",
    "The trainer will indicate which SPEARQL Endpoint will be used."
   ],
   "id": "4fb08c221a688777"
  },
  {
   "metadata": {},
   "cell_type": "code",
   "source": [
    "# set the SPARQL Endpoint\n",
    "bdr_sparql_endpoint = \"http://example.com/sparql\""
   ],
   "id": "108ab58182e500cc",
   "outputs": [],
   "execution_count": null
  },
  {
   "metadata": {},
   "cell_type": "code",
   "source": [
    "# import some Python packages\n",
    "from kurra.sparql import query\n",
    "from IPython.display import display, Markdown\n",
    "from kurra.utils import render_sparql_result\n",
    "\n",
    "# define our pretty-print function\n",
    "def table_print(r):\n",
    "    display(Markdown(render_sparql_result(r)))"
   ],
   "id": "466fd0965a948d5c",
   "outputs": [],
   "execution_count": null
  },
  {
   "metadata": {},
   "cell_type": "code",
   "source": [
    "bdr_sparql_endpoint = \"https://api.vocabulary.gswa.kurrawong.ai/sparql\"\n",
    "\n",
    "# make a SPARQL query\n",
    "q = \"\"\"\n",
    "SELECT *\n",
    "WHERE {\n",
    "    ?s ?p ?o .\n",
    "} LIMIT 10\n",
    "\"\"\"\n",
    "\n",
    "r = query(bdr_sparql_endpoint, q)\n",
    "table_print(r)"
   ],
   "id": "517e9c5485dd2dac",
   "outputs": [],
   "execution_count": null
  },
  {
   "metadata": {},
   "cell_type": "code",
   "source": [
    "# execute the query against another SPARQL Endpoint\n",
    "bdr_sparql_endpoint = \"https://api.idnau.org/sparql\"\n",
    "\n",
    "r = query(bdr_sparql_endpoint, q)\n",
    "table_print(r)"
   ],
   "id": "27b005ce863a6c26",
   "outputs": [],
   "execution_count": null
  },
  {
   "metadata": {},
   "cell_type": "markdown",
   "source": [
    "## Desktop GIS SPARQL Use\n",
    "\n",
    "### QGIS & SPARQLing Unicorn\n",
    "\n",
    "[QGIS](https://qgis.org/) is a free and open-source desktop GIS environment, similar to ArcGIS Pro.\n",
    "\n",
    "The [SPARQLing Unicorn Plugin](https://plugins.qgis.org/plugins/sparqlunicorn/) is a QGIS Plugin that \"GeoJSON layer from SPARQL enpoint queries\"."
   ],
   "id": "4e39b712c84ecfbd"
  }
 ],
 "metadata": {
  "kernelspec": {
   "display_name": "Python 3",
   "language": "python",
   "name": "python3"
  },
  "language_info": {
   "codemirror_mode": {
    "name": "ipython",
    "version": 2
   },
   "file_extension": ".py",
   "mimetype": "text/x-python",
   "name": "python",
   "nbconvert_exporter": "python",
   "pygments_lexer": "ipython2",
   "version": "2.7.6"
  }
 },
 "nbformat": 4,
 "nbformat_minor": 5
}
