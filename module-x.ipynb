{
 "cells": [
  {
   "cell_type": "markdown",
   "id": "2c09f0137414b7a6",
   "metadata": {},
   "source": [
    "# SPARQL Update\n",
    "\n",
    "\n",
    "# CONSTRUCT & INSERT\n",
    "\n",
    "# _TODO!_\n",
    "\n",
    "DESCRIBE:\n",
    "\n",
    "\n",
    "\n",
    "CONSTRUCT:\n",
    "```sparql\n",
    "PREFIX address: <https://linked.data.gov.au/dataset/qld-addr/address/>\n",
    "PREFIX schema: <https://schema.org/>\n",
    "\n",
    "CONSTRUCT {\n",
    "  address:65cb1e52-fc1d-5dee-a2d2-ea7882d12c7e schema:comment \"A nice place\"\n",
    "}\n",
    "WHERE { GRAPH ?g {\n",
    "  address:65cb1e52-fc1d-5dee-a2d2-ea7882d12c7e ?p ?o\n",
    "} }\n",
    "LIMIT 1\n",
    "```"
   ]
  }
 ],
 "metadata": {
  "kernelspec": {
   "display_name": "Python 3 (ipykernel)",
   "language": "python",
   "name": "python3"
  },
  "language_info": {
   "codemirror_mode": {
    "name": "ipython",
    "version": 3
   },
   "file_extension": ".py",
   "mimetype": "text/x-python",
   "name": "python",
   "nbconvert_exporter": "python",
   "pygments_lexer": "ipython3",
   "version": "3.12.8"
  }
 },
 "nbformat": 4,
 "nbformat_minor": 5
}
